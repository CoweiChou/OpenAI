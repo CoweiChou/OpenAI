{
  "nbformat": 4,
  "nbformat_minor": 0,
  "metadata": {
    "colab": {
      "provenance": [],
      "authorship_tag": "ABX9TyNwhC4Xixrc8+4sYTKqpLrI",
      "include_colab_link": true
    },
    "kernelspec": {
      "name": "python3",
      "display_name": "Python 3"
    },
    "language_info": {
      "name": "python"
    }
  },
  "cells": [
    {
      "cell_type": "markdown",
      "metadata": {
        "id": "view-in-github",
        "colab_type": "text"
      },
      "source": [
        "<a href=\"https://colab.research.google.com/github/CoweiChou/OpenAI/blob/main/OpenAI_color.ipynb\" target=\"_parent\"><img src=\"https://colab.research.google.com/assets/colab-badge.svg\" alt=\"Open In Colab\"/></a>"
      ]
    },
    {
      "cell_type": "code",
      "execution_count": null,
      "metadata": {
        "id": "4mRN7MDBhzMX"
      },
      "outputs": [],
      "source": [
        "!pip install openai\n",
        "!pip install python-dotenv"
      ]
    },
    {
      "cell_type": "code",
      "source": [
        "import openai\n",
        "from dotenv import dotenv_values\n",
        "config = dotenv_values(\".env\")\n",
        "# config[\"API_KEY\"]"
      ],
      "metadata": {
        "id": "U34l0tnNnMXB"
      },
      "execution_count": 5,
      "outputs": []
    },
    {
      "cell_type": "code",
      "source": [
        "openai.api_key = config[\"API_KEY\"]"
      ],
      "metadata": {
        "id": "AfJ68UoVm4GL"
      },
      "execution_count": 6,
      "outputs": []
    },
    {
      "cell_type": "markdown",
      "source": [
        "## 根據 prompt 輸入給予顏色"
      ],
      "metadata": {
        "id": "KLZ-iVQ2y5be"
      }
    },
    {
      "cell_type": "code",
      "source": [
        "import os\n",
        "import openai\n",
        "import json\n",
        "\n",
        "def generate_colors(text):\n",
        "    prompt_color = f\"\"\"\n",
        "        根據以下文字產生2到6個顏色\n",
        "\n",
        "        輸出格式：python列表, 16進制顏色編碼\n",
        "\n",
        "        ###\n",
        "        google\n",
        "        ###\n",
        "        [\"#000000\",]\n",
        "\n",
        "        ###\n",
        "        {text}\n",
        "        ###\n",
        "\n",
        "    \"\"\"\n",
        "\n",
        "    response = openai.Completion.create(\n",
        "    model=\"text-davinci-003\",\n",
        "    prompt= prompt_color,\n",
        "    temperature=1,\n",
        "    max_tokens=100,\n",
        "    top_p=1,\n",
        "    frequency_penalty=0,\n",
        "    presence_penalty=0\n",
        "    )\n",
        "\n",
        "    colors = json.loads(response[\"choices\"][0][\"text\"])\n",
        "\n",
        "    html = \"\"\n",
        "    for i in colors:\n",
        "        html += f\"<div style='background-color:{i}'>{i}</div>\"\n",
        "    return html"
      ],
      "metadata": {
        "id": "qTVMPRjw5dWd"
      },
      "execution_count": 12,
      "outputs": []
    },
    {
      "cell_type": "code",
      "source": [
        "!pip install gradio"
      ],
      "metadata": {
        "id": "RsTdSk2z7rdh"
      },
      "execution_count": null,
      "outputs": []
    },
    {
      "cell_type": "code",
      "source": [
        "import gradio as gr\n",
        "\n",
        "demo = gr.Interface(\n",
        "        fn = generate_colors,\n",
        "        inputs = \"text\",\n",
        "        outputs = \"html\",\n",
        "        title = \"顏色產生器\",\n",
        "        description = \"輸入一段文字，產生2~6個顏色\",\n",
        "        allow_flagging= \"never\"\n",
        "\n",
        ")\n",
        "\n",
        "demo.launch()\n"
      ],
      "metadata": {
        "colab": {
          "base_uri": "https://localhost:8080/",
          "height": 619
        },
        "id": "dF4y4Q6375iS",
        "outputId": "c3260e97-c7b3-41a9-b275-af5514d9894b"
      },
      "execution_count": 13,
      "outputs": [
        {
          "output_type": "stream",
          "name": "stdout",
          "text": [
            "Colab notebook detected. To show errors in colab notebook, set debug=True in launch()\n",
            "Note: opening Chrome Inspector may crash demo inside Colab notebooks.\n",
            "\n",
            "To create a public link, set `share=True` in `launch()`.\n"
          ]
        },
        {
          "output_type": "display_data",
          "data": {
            "text/plain": [
              "<IPython.core.display.Javascript object>"
            ],
            "application/javascript": [
              "(async (port, path, width, height, cache, element) => {\n",
              "                        if (!google.colab.kernel.accessAllowed && !cache) {\n",
              "                            return;\n",
              "                        }\n",
              "                        element.appendChild(document.createTextNode(''));\n",
              "                        const url = await google.colab.kernel.proxyPort(port, {cache});\n",
              "\n",
              "                        const external_link = document.createElement('div');\n",
              "                        external_link.innerHTML = `\n",
              "                            <div style=\"font-family: monospace; margin-bottom: 0.5rem\">\n",
              "                                Running on <a href=${new URL(path, url).toString()} target=\"_blank\">\n",
              "                                    https://localhost:${port}${path}\n",
              "                                </a>\n",
              "                            </div>\n",
              "                        `;\n",
              "                        element.appendChild(external_link);\n",
              "\n",
              "                        const iframe = document.createElement('iframe');\n",
              "                        iframe.src = new URL(path, url).toString();\n",
              "                        iframe.height = height;\n",
              "                        iframe.allow = \"autoplay; camera; microphone; clipboard-read; clipboard-write;\"\n",
              "                        iframe.width = width;\n",
              "                        iframe.style.border = 0;\n",
              "                        element.appendChild(iframe);\n",
              "                    })(7861, \"/\", \"100%\", 500, false, window.element)"
            ]
          },
          "metadata": {}
        },
        {
          "output_type": "execute_result",
          "data": {
            "text/plain": []
          },
          "metadata": {},
          "execution_count": 13
        }
      ]
    }
  ]
}