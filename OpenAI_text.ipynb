{
  "nbformat": 4,
  "nbformat_minor": 0,
  "metadata": {
    "colab": {
      "provenance": [],
      "authorship_tag": "ABX9TyOPTKIqzaxL7SkmBZpdqSdZ",
      "include_colab_link": true
    },
    "kernelspec": {
      "name": "python3",
      "display_name": "Python 3"
    },
    "language_info": {
      "name": "python"
    }
  },
  "cells": [
    {
      "cell_type": "markdown",
      "metadata": {
        "id": "view-in-github",
        "colab_type": "text"
      },
      "source": [
        "<a href=\"https://colab.research.google.com/github/CoweiChou/OpenAI/blob/main/OpenAI_text.ipynb\" target=\"_parent\"><img src=\"https://colab.research.google.com/assets/colab-badge.svg\" alt=\"Open In Colab\"/></a>"
      ]
    },
    {
      "cell_type": "code",
      "execution_count": null,
      "metadata": {
        "id": "4mRN7MDBhzMX"
      },
      "outputs": [],
      "source": [
        "!pip install openai"
      ]
    },
    {
      "cell_type": "code",
      "source": [
        "!pip install python-dotenv"
      ],
      "metadata": {
        "colab": {
          "base_uri": "https://localhost:8080/"
        },
        "id": "TgV_AoilpJ-0",
        "outputId": "16d2362f-6ac1-45da-febc-0fe9e19503ca"
      },
      "execution_count": null,
      "outputs": [
        {
          "output_type": "stream",
          "name": "stdout",
          "text": [
            "Collecting python-dotenv\n",
            "  Downloading python_dotenv-1.0.0-py3-none-any.whl (19 kB)\n",
            "Installing collected packages: python-dotenv\n",
            "Successfully installed python-dotenv-1.0.0\n"
          ]
        }
      ]
    },
    {
      "cell_type": "code",
      "source": [
        "import openai\n",
        "from dotenv import dotenv_values\n",
        "config = dotenv_values(\".env\")\n",
        "# config[\"API_KEY\"]"
      ],
      "metadata": {
        "id": "U34l0tnNnMXB"
      },
      "execution_count": 48,
      "outputs": []
    },
    {
      "cell_type": "code",
      "source": [
        "openai.api_key = config[\"API_KEY\"]"
      ],
      "metadata": {
        "id": "AfJ68UoVm4GL"
      },
      "execution_count": 49,
      "outputs": []
    },
    {
      "cell_type": "markdown",
      "source": [
        "## 根據 prompt 輸入給予回應"
      ],
      "metadata": {
        "id": "KLZ-iVQ2y5be"
      }
    },
    {
      "cell_type": "code",
      "source": [
        "import os\n",
        "import openai\n",
        "\n",
        "\n",
        "response = openai.Completion.create(\n",
        "  model=\"text-davinci-003\",\n",
        "  prompt=\"請列出狗狗喜歡哪些動作\\n\\n\\\"\\\"\\\"\\n一間位於加拿大溫尼伯的城市犬日托中心（Urban Canine），專門照顧和培訓狗狗們，在這裡的狗狗們可以盡情的玩耍。一隻名為林肯（Linkin）的羅得西亞背脊犬個性害羞，比起吵鬧的尋找玩伴，牠更喜歡默默的找自己身旁的小狗依偎著當靠枕，撒嬌模樣超級可愛。\\n\\n根據《The Dodo》報導，Urban Canine表示，林肯是日托中心的撒嬌王，這裡幾乎每隻狗狗都被牠「貼貼」過，儘管牠的體型較大，但毫不影響牠喜歡和同伴相互依偎的樂趣。當林肯找到靠起來舒服的角度後，牠就會用鼻子蹭一蹭同伴的毛皮，然後滿意的進入夢鄉。軟萌的性格和巨大的外表有著極大的反差，十分可愛。\\n\\n從Urban Canine上傳tiktok的影片中可以發現，林肯常常將頭靠在別人身上撒嬌，就連照顧牠的工作人員也常這樣的可愛待遇。對牠來說，和喜歡的同伴們一起「貼貼」，就是最幸福的事了！\\n\\\"\\\"\\\"\\n\\n\",\n",
        "  temperature=1,\n",
        "  max_tokens=256,\n",
        "  top_p=1,\n",
        "  frequency_penalty=0,\n",
        "  presence_penalty=0\n",
        ")"
      ],
      "metadata": {
        "id": "ikjumuH9nasv"
      },
      "execution_count": null,
      "outputs": []
    },
    {
      "cell_type": "code",
      "source": [
        "response"
      ],
      "metadata": {
        "colab": {
          "base_uri": "https://localhost:8080/"
        },
        "id": "1pjq8BUxrtqO",
        "outputId": "b1e5ea9d-b806-4059-8da4-7ccb7eb1c611"
      },
      "execution_count": null,
      "outputs": [
        {
          "output_type": "execute_result",
          "data": {
            "text/plain": [
              "<OpenAIObject text_completion id=cmpl-7r0hks6WZ37NRNgdcE2n4WUA1Cabi at 0x78631d39a930> JSON: {\n",
              "  \"warning\": \"This model version is deprecated. Migrate before January 4, 2024 to avoid disruption of service. Learn more https://platform.openai.com/docs/deprecations\",\n",
              "  \"id\": \"cmpl-7r0hks6WZ37NRNgdcE2n4WUA1Cabi\",\n",
              "  \"object\": \"text_completion\",\n",
              "  \"created\": 1692868448,\n",
              "  \"model\": \"text-davinci-003\",\n",
              "  \"choices\": [\n",
              "    {\n",
              "      \"text\": \"\\n\\u72d7\\u72d7\\u559c\\u6b61\\u7684\\u52d5\\u4f5c\\u6709\\uff1a\\n1. \\u7528\\u9f3b\\u5b50\\u8e6d\\u4e00\\u8e6d\\u540c\\u4f34\\u7684\\u6bdb\\u76ae\\n2. \\u5c07\\u982d\\u9760\\u5728\\u5225\\u4eba\\u8eab\\u4e0a\\u6492\\u5b0c\\n3. \\u627e\\u5c0b\\u9069\\u7576\\u7684\\u8212\\u9069\\u89d2\\u5ea6\\u9760\\u8457\\u7576\\u6795\\u982d\\n4. \\u4f9d\\u504e\\u8457\\u7576\\u9760\\u6795\\u4e00\\u8d77\\u5165\\u5922\\u9109\",\n",
              "      \"index\": 0,\n",
              "      \"logprobs\": null,\n",
              "      \"finish_reason\": \"stop\"\n",
              "    }\n",
              "  ],\n",
              "  \"usage\": {\n",
              "    \"prompt_tokens\": 753,\n",
              "    \"completion_tokens\": 140,\n",
              "    \"total_tokens\": 893\n",
              "  }\n",
              "}"
            ]
          },
          "metadata": {},
          "execution_count": 45
        }
      ]
    },
    {
      "cell_type": "code",
      "source": [
        "print(response[\"choices\"][0][\"text\"])"
      ],
      "metadata": {
        "colab": {
          "base_uri": "https://localhost:8080/"
        },
        "id": "V6ZoYkJhn4zi",
        "outputId": "c8131903-f953-4c99-aeb5-d01d0afa90ee"
      },
      "execution_count": null,
      "outputs": [
        {
          "output_type": "stream",
          "name": "stdout",
          "text": [
            "\n",
            "狗狗喜歡的動作有：\n",
            "1. 用鼻子蹭一蹭同伴的毛皮\n",
            "2. 將頭靠在別人身上撒嬌\n",
            "3. 找尋適當的舒適角度靠著當枕頭\n",
            "4. 依偎著當靠枕一起入夢鄉\n"
          ]
        }
      ]
    }
  ]
}