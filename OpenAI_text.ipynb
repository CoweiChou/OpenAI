{
  "nbformat": 4,
  "nbformat_minor": 0,
  "metadata": {
    "colab": {
      "provenance": [],
      "authorship_tag": "ABX9TyOfEr21ZpbyHqswMESf79wM",
      "include_colab_link": true
    },
    "kernelspec": {
      "name": "python3",
      "display_name": "Python 3"
    },
    "language_info": {
      "name": "python"
    }
  },
  "cells": [
    {
      "cell_type": "markdown",
      "metadata": {
        "id": "view-in-github",
        "colab_type": "text"
      },
      "source": [
        "<a href=\"https://colab.research.google.com/github/CoweiChou/OpenAI/blob/main/OpenAI_text.ipynb\" target=\"_parent\"><img src=\"https://colab.research.google.com/assets/colab-badge.svg\" alt=\"Open In Colab\"/></a>"
      ]
    },
    {
      "cell_type": "code",
      "execution_count": null,
      "metadata": {
        "id": "4mRN7MDBhzMX"
      },
      "outputs": [],
      "source": [
        "!pip install openai"
      ]
    },
    {
      "cell_type": "code",
      "source": [
        "!pip install python-dotenv"
      ],
      "metadata": {
        "id": "TgV_AoilpJ-0"
      },
      "execution_count": null,
      "outputs": []
    },
    {
      "cell_type": "code",
      "source": [
        "import openai\n",
        "from dotenv import dotenv_values\n",
        "config = dotenv_values(\".env\")\n",
        "# config[\"API_KEY\"]"
      ],
      "metadata": {
        "id": "U34l0tnNnMXB"
      },
      "execution_count": 71,
      "outputs": []
    },
    {
      "cell_type": "code",
      "source": [
        "openai.api_key = config[\"API_KEY\"]"
      ],
      "metadata": {
        "id": "AfJ68UoVm4GL"
      },
      "execution_count": 72,
      "outputs": []
    },
    {
      "cell_type": "markdown",
      "source": [
        "## 根據 prompt 輸入給予回應"
      ],
      "metadata": {
        "id": "KLZ-iVQ2y5be"
      }
    },
    {
      "cell_type": "code",
      "source": [
        "prompt_text = \"\"\"請列出狗狗喜歡哪些動作\n",
        "\n",
        "一間位於加拿大溫尼伯的城市犬日托中心（Urban Canine），專門照顧和培訓狗狗們，在這裡的狗狗們可以盡情的玩耍。\n",
        "一隻名為林肯（Linkin）的羅得西亞背脊犬個性害羞，比起吵鬧的尋找玩伴，牠更喜歡默默的找自己身旁的小狗依偎著當靠枕，\n",
        "撒嬌模樣超級可愛。\n",
        "\n",
        "根據《The Dodo》報導，Urban Canine表示，林肯是日托中心的撒嬌王，這裡幾乎每隻狗狗都被牠「貼貼」過，儘管牠的\n",
        "體型較大，但毫不影響牠喜歡和同伴相互依偎的樂趣。當林肯找到靠起來舒服的角度後，牠就會用鼻子蹭一蹭同伴的毛皮，\n",
        "然後滿意的進入夢鄉。軟萌的性格和巨大的外表有著極大的反差，十分可愛。\n",
        "\n",
        "從Urban Canine上傳tiktok的影片中可以發現，林肯常常將頭靠在別人身上撒嬌，就連照顧牠的工作人員也常這樣的可愛\n",
        "待遇。對牠來說，和喜歡的同伴們一起「貼貼」，就是最幸福的事了！\"\"\"\n"
      ],
      "metadata": {
        "id": "l4wK2AHN2wL1"
      },
      "execution_count": 73,
      "outputs": []
    },
    {
      "cell_type": "code",
      "source": [
        "import os\n",
        "import openai\n",
        "\n",
        "\n",
        "response = openai.Completion.create(\n",
        "  model=\"text-davinci-003\",\n",
        "  prompt= prompt_text,\n",
        "  max_tokens=256,\n",
        "  top_p=1,\n",
        "  frequency_penalty=0,\n",
        "  presence_penalty=0\n",
        ")"
      ],
      "metadata": {
        "id": "ikjumuH9nasv"
      },
      "execution_count": 74,
      "outputs": []
    },
    {
      "cell_type": "code",
      "source": [
        "response"
      ],
      "metadata": {
        "colab": {
          "base_uri": "https://localhost:8080/"
        },
        "id": "1pjq8BUxrtqO",
        "outputId": "2cef0623-aa32-4501-b231-2be4b27f2e0b"
      },
      "execution_count": 75,
      "outputs": [
        {
          "output_type": "execute_result",
          "data": {
            "text/plain": [
              "<OpenAIObject text_completion id=cmpl-7r0zLcuamCeP9RIc8P152nnFTdjk7 at 0x78632e8f6660> JSON: {\n",
              "  \"warning\": \"This model version is deprecated. Migrate before January 4, 2024 to avoid disruption of service. Learn more https://platform.openai.com/docs/deprecations\",\n",
              "  \"id\": \"cmpl-7r0zLcuamCeP9RIc8P152nnFTdjk7\",\n",
              "  \"object\": \"text_completion\",\n",
              "  \"created\": 1692869539,\n",
              "  \"model\": \"text-davinci-003\",\n",
              "  \"choices\": [\n",
              "    {\n",
              "      \"text\": \"\\n\\n\\u72d7\\u72d7\\u559c\\u6b61\\u7684\\u52d5\\u4f5c\\u5305\\u62ec\\uff1a\\n1. \\u4f9d\\u504e\\n2. \\u7528\\u9f3b\\u5b50\\u8e6d\\n3. \\u6efe\\u4f86\\u6efe\\u53bb\\n4. \\u6492\\u5b0c\\n5. \\u6416\\u5c3e\\u5df4\\n6. \\u627e\\u73a9\\u4f34\\n7. \\u982d\\u9760\\u5728\\u5176\\u4ed6\\u72d7\\u4e0a\\n8. \\u4e92\\u76f8\\u64ab\\u6478\",\n",
              "      \"index\": 0,\n",
              "      \"logprobs\": null,\n",
              "      \"finish_reason\": \"stop\"\n",
              "    }\n",
              "  ],\n",
              "  \"usage\": {\n",
              "    \"prompt_tokens\": 753,\n",
              "    \"completion_tokens\": 122,\n",
              "    \"total_tokens\": 875\n",
              "  }\n",
              "}"
            ]
          },
          "metadata": {},
          "execution_count": 75
        }
      ]
    },
    {
      "cell_type": "code",
      "source": [
        "print(response[\"choices\"][0][\"text\"])"
      ],
      "metadata": {
        "colab": {
          "base_uri": "https://localhost:8080/"
        },
        "id": "V6ZoYkJhn4zi",
        "outputId": "975c2a4b-ac4e-4ea7-adf0-d5b2f23e4f68"
      },
      "execution_count": 76,
      "outputs": [
        {
          "output_type": "stream",
          "name": "stdout",
          "text": [
            "\n",
            "\n",
            "狗狗喜歡的動作包括：\n",
            "1. 依偎\n",
            "2. 用鼻子蹭\n",
            "3. 滾來滾去\n",
            "4. 撒嬌\n",
            "5. 搖尾巴\n",
            "6. 找玩伴\n",
            "7. 頭靠在其他狗上\n",
            "8. 互相撫摸\n"
          ]
        }
      ]
    }
  ]
}